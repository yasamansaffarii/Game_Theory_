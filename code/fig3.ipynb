{
  "nbformat": 4,
  "nbformat_minor": 0,
  "metadata": {
    "colab": {
      "name": "fig3.ipynb",
      "provenance": []
    },
    "kernelspec": {
      "name": "python3",
      "display_name": "Python 3"
    },
    "language_info": {
      "name": "python"
    },
    "accelerator": "GPU"
  },
  "cells": [
    {
      "cell_type": "code",
      "metadata": {
        "colab": {
          "base_uri": "https://localhost:8080/",
          "height": 265
        },
        "id": "b9H1F4LAKfZ4",
        "outputId": "84a1310c-01e8-442b-b52b-5722bfa9e904"
      },
      "source": [
        "# simulate\n",
        "\n",
        "import matplotlib.pyplot as plt\n",
        "import math\n",
        "%matplotlib inline\n",
        "\n",
        "# paras\n",
        "h1 = 2; h2 = 1; x12 = 0.5; x21=0.3 ;ta=20 ;r=6 ;T=600 ;p=0.1\n",
        "x1 = [0.7]\n",
        "x2 = [1 - x1[0]]\n",
        "dt = 0.001\n",
        "# fitnesses\n",
        "F1 = [(((h1*(x1[0]-x12))/((h1*(x1[0]-x12))+(h2*(x2[0]-x21))))*(r*(math.exp(-(ta/T))))-(p*h1*(x1[0]-x12))) * dt]\n",
        "F2 = [(((h2*(x2[0]-x21))/((h1*(x1[0]-x12))+(h2*(x2[0]-x21))))*(r*(math.exp(-(ta/T))))-(p*h2*(x2[0]-x21))) * dt]\n",
        "F = [(x1[0] * F1[0] + x2[0] * F2[0]) * dt]\n",
        "\n",
        "for t in range(1000):\n",
        "    # fitnesses\n",
        "    f1 = ((((h1*(x1[t]-x12))/((h1*(x1[t]-x12))+(h2*(x2[t]-x21))))*(r)*(math.exp(-(ta/T))))-(p*h1*(x1[t]-x12))) \n",
        "    f2 = ((((h2*(x2[t]-x21))/((h1*(x1[t]-x12))+(h2*(x2[t]-x21))))*(r)*(math.exp(-(ta/T))))-(p*h2*(x2[t]-x21)))\n",
        "    ff = x1[t] * f1 + x2[t] * f2\n",
        "    F1.append(f1*dt)\n",
        "    F2.append(f2*dt)\n",
        "    F.append(ff*dt)\n",
        "    # differential equations for shares\n",
        "    x1.append(x1[t] + ((x1[t]*(1-x1[t])*(f1-f2)) * dt))\n",
        "    x2.append(x2[t] + ((x2[t]*(1-x2[t])*(f2-f1)) * dt))\n",
        "    #x1.append(x1[t] + ((x1[t]*(f1-ff)) * dt))\n",
        "    #x2.append(x2[t] + ((x2[t]*(f2-ff)) * dt))\n",
        "\n",
        "plt.plot(x1, 'r', label = 'share of poo1')\n",
        "plt.plot(x2, 'b', label = 'share of poo2')\n",
        "#plt.plot(F1, 'r--', label ='fitness of cooperators')\n",
        "#plt.plot(F2, 'b--', label ='fitness of defectors')\n",
        "#plt.plot(F, 'g--', label ='mean population fitness')\n",
        "plt.legend(loc = 'best')\n",
        "plt.ylim(-0.1, 1.1)\n",
        "plt.grid()\n"
      ],
      "execution_count": 4,
      "outputs": [
        {
          "output_type": "display_data",
          "data": {
            "image/png": "[encoded data removed]",
            "text/plain": [
              "<Figure size 432x288 with 1 Axes>"
            ]
          },
          "metadata": {
            "needs_background": "light"
          }
        }
      ]
    },
    {
      "cell_type": "code",
      "metadata": {
        "colab": {
          "base_uri": "https://localhost:8080/"
        },
        "id": "HcYrmFqtd4lG",
        "outputId": "d6304d3d-3446-4eff-a00e-5b931e7b1cf5"
      },
      "source": [
        "# use sympy to calculate steady states\n",
        "from sympy import *\n",
        "import math\n",
        "# paras\n",
        "h1 = 2; h2 = 1; x12 = 0.5; x21=0.3 ;ta=20 ;r=6 ;T=600 ;p=0.1\n",
        "dt = 0.001\n",
        "x1, x2 = symbols('x1, x2')\n",
        "f1 = (((h1*(x1-x12))/((h1*(x1-x12))+(h2*(x2-x21))))*(r*(math.exp(-(ta/T))))-(p*h1*(x1-x12))) \n",
        "f2 = (((h2*(x2-x21))/((h1*(x1-x12))+(h2*(x2-x21))))*(r*(math.exp(-(ta/T))))-(p*h2*(x2-x21))) \n",
        "f = (x1 * f1 + x2 * f2) \n",
        "\n",
        "d1 = x1 * (f1-f)\n",
        "d2 = x2 * (f2-f)\n",
        "\n",
        "# use sympy's way of setting equations to zero\n",
        "Equal1 = Eq(d1, 0)\n",
        "Equal2 = Eq(d2, 0)\n",
        "print(Equal1)\n",
        "# compute fixed points\n",
        "equilibria = solve([Equal1, Equal2], [x1, x2])\n",
        "print(equilibria)"
      ],
      "execution_count": 2,
      "outputs": [
        {
          "output_type": "stream",
          "name": "stdout",
          "text": [
            "Eq(x1*(-x1*(-0.2*x1 + 5.80329660289204*(2*x1 - 1.0)/(2*x1 + x2 - 1.3) + 0.1) - 0.2*x1 - x2*(-0.1*x2 + 5.80329660289204*(x2 - 0.3)/(2*x1 + x2 - 1.3) + 0.03) + 5.80329660289204*(2*x1 - 1.0)/(2*x1 + x2 - 1.3) + 0.1), 0)\n",
            "[(0.0, 0.0), (0.0, 0.300000000000000), (0.0, 1.00000000000000), (0.0, 59.3329660289204), (0.500000000000000, 0.0), (0.566666666666667, 0.433333333333333), (1.00000000000000, 0.0), (19.9776553429735 - 13.5951013847178*I, 19.3776553429735 + 27.1902027694355*I), (19.9776553429735 + 13.5951013847178*I, 19.3776553429735 - 27.1902027694355*I), (29.6664830144602 - 0.5*x2, x2)]\n"
          ]
        }
      ]
    },
    {
      "cell_type": "code",
      "metadata": {
        "colab": {
          "base_uri": "https://localhost:8080/",
          "height": 265
        },
        "id": "95QtX-Xnnd-X",
        "outputId": "99ff3a05-699b-4262-c95c-d69b18714be8"
      },
      "source": [
        "# simulate with steady state\n",
        "import matplotlib.pyplot as plt\n",
        "%matplotlib inline\n",
        "\n",
        "# paras\n",
        "h1 = 2; h2 = 1; x12 = 0.5; x21=0.3 ;ta=20 ;r=6 ;T=600 ;p=0.1\n",
        "# deviate slightly from the fixed point value \n",
        "x1 = [1 - 0.00001]\n",
        "x2 = [1 - x1[0]]\n",
        "dt = 0.001\n",
        "\n",
        "for t in range(30000):\n",
        "    # fitnesses\n",
        "    f1 = ((((h1*(x1[t]-x12))/((h1*(x1[t]-x12))+(h2*(x2[t]-x21))))*(r)*(math.exp(-(ta/T))))-(p*h1*(x1[t]-x12))) \n",
        "    f2 = ((((h2*(x2[t]-x21))/((h1*(x1[t]-x12))+(h2*(x2[t]-x21))))*(r)*(math.exp(-(ta/T))))-(p*h2*(x2[t]-x21)))\n",
        "    ff = x1[t] * f1 + x2[t] * f2\n",
        "    # differential equations for shares\n",
        "    x1.append(x1[t] + ((x1[t]*(1-x1[t])*(f1-f2)) * dt))\n",
        "    x2.append(x2[t] + ((x2[t]*(1-x2[t])*(f2-f1)) * dt))\n",
        "\n",
        "plt.plot(x1, 'r', label = 'share of pool1')\n",
        "plt.plot(x2, 'b', label = 'share of pool2')\n",
        "plt.legend(loc = 'best')\n",
        "plt.ylim(-0.1, 1.1)\n",
        "plt.grid()"
      ],
      "execution_count": 6,
      "outputs": [
        {
          "output_type": "display_data",
          "data": {
            "image/png": "[encoded data removed]",
            "text/plain": [
              "<Figure size 432x288 with 1 Axes>"
            ]
          },
          "metadata": {
            "needs_background": "light"
          }
        }
      ]
    },
    {
      "cell_type": "code",
      "metadata": {
        "colab": {
          "base_uri": "https://localhost:8080/",
          "height": 265
        },
        "id": "EcGNoAVMo4k8",
        "outputId": "75ed6ec5-6271-414c-8dd3-69fd130bbac8"
      },
      "source": [
        "# simulate with steady state\n",
        "import matplotlib.pyplot as plt\n",
        "%matplotlib inline\n",
        "\n",
        "# paras\n",
        "h1 = 2; h2 = 1; x12 = 0.5; x21=0.3 ;ta=20 ;r=6 ;T=600 ;p=0.1\n",
        "# deviate slightly from the fixed point value \n",
        "x1 = [0.566666666666667 - 0.00001]\n",
        "x2 = [1 - x1[0]]\n",
        "dt = 0.001\n",
        "\n",
        "for t in range(30000):\n",
        "    # fitnesses\n",
        "    f1 = ((((h1*(x1[t]-x12))/((h1*(x1[t]-x12))+(h2*(x2[t]-x21))))*(r)*(math.exp(-(ta/T))))-(p*h1*(x1[t]-x12))) \n",
        "    f2 = ((((h2*(x2[t]-x21))/((h1*(x1[t]-x12))+(h2*(x2[t]-x21))))*(r)*(math.exp(-(ta/T))))-(p*h2*(x2[t]-x21)))\n",
        "    ff = x1[t] * f1 + x2[t] * f2\n",
        "    # differential equations for shares\n",
        "    x1.append(x1[t] + ((x1[t]*(1-x1[t])*(f1-f2)) * dt))\n",
        "    x2.append(x2[t] + ((x2[t]*(1-x2[t])*(f2-f1)) * dt))\n",
        "\n",
        "plt.plot(x1, 'r', label = 'share of pool1')\n",
        "plt.plot(x2, 'b', label = 'share of pool2')\n",
        "plt.legend(loc = 'best')\n",
        "plt.ylim(-0.1, 1.1)\n",
        "plt.grid()"
      ],
      "execution_count": 7,
      "outputs": [
        {
          "output_type": "display_data",
          "data": {
            "image/png": "[encoded data removed]",
            "text/plain": [
              "<Figure size 432x288 with 1 Axes>"
            ]
          },
          "metadata": {
            "needs_background": "light"
          }
        }
      ]
    }
  ]
}