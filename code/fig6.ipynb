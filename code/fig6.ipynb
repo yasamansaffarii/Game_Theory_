{
  "nbformat": 4,
  "nbformat_minor": 0,
  "metadata": {
    "colab": {
      "name": "fig6.ipynb",
      "provenance": []
    },
    "kernelspec": {
      "name": "python3",
      "display_name": "Python 3"
    },
    "language_info": {
      "name": "python"
    }
  },
  "cells": [
    {
      "cell_type": "code",
      "metadata": {
        "colab": {
          "base_uri": "https://localhost:8080/",
          "height": 269
        },
        "id": "saWgrGzglmZ_",
        "outputId": "f2bae0fe-f482-49a9-d784-30d94919d5ce"
      },
      "source": [
        "# simulate\n",
        "#figure6\n",
        "import matplotlib.pyplot as plt\n",
        "import math\n",
        "%matplotlib inline\n",
        "\n",
        "# paras\n",
        "h1 = 8; h2 = 1; x12 = 0.5; x21=0.3 ;ta=20 ;r=15 ;T=600 ;p=0.1\n",
        "#x1 = [0.3]\n",
        "#x2 = [1 - x1[0]]\n",
        "dt = 0.001\n",
        "u=[0.6,0.6,0.6,0.6]#x1\n",
        "q=[0.0,0.05,0.3,0.75]#x12\n",
        "m=[]#return x1's\n",
        "for i in range(len(u)):\n",
        "    x1 = [u[i]]\n",
        "    x2 = [1 - x1[0]]\n",
        "    x12=q[i]\n",
        "    # fitnesses\n",
        "    F1 = [(((h1*(x1[0]-x12))/((h1*(x1[0]-x12))+(h2*(x2[0]-x21))))*(r*(math.exp(-10*(ta/T))))-(p*h1*(x1[0]-x12))) * dt]\n",
        "    F2 = [(((h2*(x2[0]-x21))/((h1*(x1[0]-x12))+(h2*(x2[0]-x21))))*(r*(math.exp(-10*(ta/T))))-(p*h2*(x2[0]-x21))) * dt]\n",
        "    F = [(x1[0] * F1[0] + x2[0] * F2[0]) * dt]\n",
        "\n",
        "    for t in range(1000):\n",
        "        # fitnesses\n",
        "        f1 = ((((h1*(x1[t]-x12))/((h1*(x1[t]-x12))+(h2*(x2[t]-x21))))*(r)*(math.exp(-10*(ta/T))))-(p*h1*(x1[t]-x12))) \n",
        "        f2 = ((((h2*(x2[t]-x21))/((h1*(x1[t]-x12))+(h2*(x2[t]-x21))))*(r)*(math.exp(-10*(ta/T))))-(p*h2*(x2[t]-x21)))\n",
        "        ff = x1[t] * f1 + x2[t] * f2\n",
        "        F1.append(f1*dt)\n",
        "        F2.append(f2*dt)\n",
        "        F.append(ff*dt)\n",
        "        # differential equations for shares\n",
        "        x1.append(x1[t] + ((x1[t]*(1-x1[t])*(f1-f2)) * dt))\n",
        "        x2.append(x2[t] + ((x2[t]*(1-x2[t])*(f2-f1)) * dt))\n",
        "        #x1.append(x1[t] + ((x1[t]*(f1-ff)) * dt))\n",
        "        #x2.append(x2[t] + ((x2[t]*(f2-ff)) * dt))\n",
        "    m.append(x1)\n",
        "    color=[\"k--\",\"k\",\"k-.\",\"r\"]\n",
        "for i in range(len(m)):\n",
        "    plt.plot(m[i],color[i], label = 'x1='+str(u[i])+' , x12='+str(q[i]))\n",
        "    #plt.plot(x2, 'b', label = 'share of poo2')\n",
        "    #plt.plot(F1, 'r--', label ='fitness of cooperators')\n",
        "    #plt.plot(F2, 'b--', label ='fitness of defectors')\n",
        "    #plt.plot(F, 'g--', label ='mean population fitness')\n",
        "    plt.legend(loc = 'best')\n",
        "    plt.ylim(0, 1)\n",
        "    plt.grid()\n"
      ],
      "execution_count": 7,
      "outputs": [
        {
          "output_type": "display_data",
          "data": {
            "image/png": "[encoded data removed]",
            "text/plain": [
              "<Figure size 432x288 with 1 Axes>"
            ]
          },
          "metadata": {
            "needs_background": "light"
          }
        }
      ]
    }
  ]
}