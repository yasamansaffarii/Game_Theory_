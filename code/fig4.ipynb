{
  "nbformat": 4,
  "nbformat_minor": 0,
  "metadata": {
    "colab": {
      "name": "fig4.ipynb",
      "provenance": []
    },
    "kernelspec": {
      "name": "python3",
      "display_name": "Python 3"
    },
    "language_info": {
      "name": "python"
    }
  },
  "cells": [
    {
      "cell_type": "code",
      "metadata": {
        "colab": {
          "base_uri": "https://localhost:8080/",
          "height": 265
        },
        "id": "xY5dMT2JqWX0",
        "outputId": "a1e6d940-9fc0-4746-bbda-4908b4641232"
      },
      "source": [
        "# simulate\n",
        "\n",
        "import matplotlib.pyplot as plt\n",
        "import math\n",
        "%matplotlib inline\n",
        "\n",
        "# paras\n",
        "h1 = 4; h2 =2; x12 = 0.5; x21=0.3 ;ta=20 ;r=6 ;T=600 ;p=0.1\n",
        "x1 = [0.7]\n",
        "x2 = [1 - x1[0]]\n",
        "dt = 0.001\n",
        "# fitnesses\n",
        "F1 = [(((h1*(x1[0]-x12))/((h1*(x1[0]-x12))+(h2*(x2[0]-x21))))*(r*(math.exp(-10*(ta/T))))-(p*h1*(x1[0]-x12))) * dt]\n",
        "F2 = [(((h2*(x2[0]-x21))/((h1*(x1[0]-x12))+(h2*(x2[0]-x21))))*(r*(math.exp(-10*(ta/T))))-(p*h2*(x2[0]-x21))) * dt]\n",
        "F = [(x1[0] * F1[0] + x2[0] * F2[0]) * dt]\n",
        "\n",
        "for t in range(1000):\n",
        "    # fitnesses\n",
        "    f1 = ((((h1*(x1[t]-x12))/((h1*(x1[t]-x12))+(h2*(x2[t]-x21))))*(r)*(math.exp(-10*(ta/T))))-(p*h1*(x1[t]-x12))) \n",
        "    f2 = ((((h2*(x2[t]-x21))/((h1*(x1[t]-x12))+(h2*(x2[t]-x21))))*(r)*(math.exp(-10*(ta/T))))-(p*h2*(x2[t]-x21)))\n",
        "    ff = x1[t] * f1 + x2[t] * f2\n",
        "    F1.append(f1*dt)\n",
        "    F2.append(f2*dt)\n",
        "    F.append(ff*dt)\n",
        "    # differential equations for shares\n",
        "    x1.append(x1[t] + ((x1[t]*(1-x1[t])*(f1-f2)) * dt))\n",
        "    x2.append(x2[t] + ((x2[t]*(1-x2[t])*(f2-f1)) * dt))\n",
        "    #x1.append(x1[t] + ((x1[t]*(f1-ff)) * dt))\n",
        "    #x2.append(x2[t] + ((x2[t]*(f2-ff)) * dt))\n",
        "\n",
        "plt.plot(x1, 'r', label = 'share of poo1')\n",
        "plt.plot(x2, 'b', label = 'share of poo2')\n",
        "#plt.plot(F1, 'r--', label ='fitness of cooperators')\n",
        "#plt.plot(F2, 'b--', label ='fitness of defectors')\n",
        "#plt.plot(F, 'g--', label ='mean population fitness')\n",
        "plt.legend(loc = 'best')\n",
        "plt.ylim(-0.1, 1.1)\n",
        "plt.grid()\n"
      ],
      "execution_count": 8,
      "outputs": [
        {
          "output_type": "display_data",
          "data": {
            "image/png": "[encoded data removed]",
            "text/plain": [
              "<Figure size 432x288 with 1 Axes>"
            ]
          },
          "metadata": {
            "needs_background": "light"
          }
        }
      ]
    },
    {
      "cell_type": "code",
      "metadata": {
        "colab": {
          "base_uri": "https://localhost:8080/"
        },
        "id": "PYU6Px2kqXpC",
        "outputId": "13c5c2e2-beea-40b1-e891-a1d70b192ebd"
      },
      "source": [
        "# use sympy to calculate steady states\n",
        "from sympy import *\n",
        "import math\n",
        "# paras\n",
        "h1 = 4; h2 = 2; x12 = 0.5; x21=0.3 ;ta=20 ;r=6 ;T=600 ;p=0.1\n",
        "dt = 0.001\n",
        "x1, x2 = symbols('x1, x2')\n",
        "f1 = (((h1*(x1-x12))/((h1*(x1-x12))+(h2*(x2-x21))))*(r*(math.exp(-(ta/T))))-(p*h1*(x1-x12))) \n",
        "f2 = (((h2*(x2-x21))/((h1*(x1-x12))+(h2*(x2-x21))))*(r*(math.exp(-(ta/T))))-(p*h2*(x2-x21))) \n",
        "f = (x1 * f1 + x2 * f2) \n",
        "\n",
        "d1 = x1 * (f1-f)\n",
        "d2 = x2 * (f2-f)\n",
        "\n",
        "# use sympy's way of setting equations to zero\n",
        "Equal1 = Eq(d1, 0)\n",
        "Equal2 = Eq(d2, 0)\n",
        "print(Equal1)\n",
        "# compute fixed points\n",
        "equilibria = solve([Equal1, Equal2], [x1, x2])\n",
        "print(equilibria)"
      ],
      "execution_count": 9,
      "outputs": [
        {
          "output_type": "stream",
          "name": "stdout",
          "text": [
            "Eq(x1*(-x1*(-0.4*x1 + 5.80329660289204*(4*x1 - 2.0)/(4*x1 + 2*x2 - 2.6) + 0.2) - 0.4*x1 - x2*(-0.2*x2 + 5.80329660289204*(2*x2 - 0.6)/(4*x1 + 2*x2 - 2.6) + 0.06) + 5.80329660289204*(4*x1 - 2.0)/(4*x1 + 2*x2 - 2.6) + 0.2), 0)\n",
            "[(0.0, 0.0), (0.0, 0.300000000000000), (0.0, 1.00000000000000), (0.0, 30.3164830144602), (0.500000000000000, 0.0), (0.566666666666667, 0.433333333333333), (1.00000000000000, 0.0), (10.3054943381534 - 6.75493543195696*I, 9.7054943381534 + 13.5098708639139*I), (10.3054943381534 + 6.75493543195696*I, 9.7054943381534 - 13.5098708639139*I), (15.1582415072301 - 0.5*x2, x2)]\n"
          ]
        }
      ]
    },
    {
      "cell_type": "code",
      "metadata": {
        "colab": {
          "base_uri": "https://localhost:8080/",
          "height": 265
        },
        "id": "hDw43MMOqaJ5",
        "outputId": "11aa5d69-2234-48e9-9647-662cf1873468"
      },
      "source": [
        "# simulate with steady state\n",
        "import matplotlib.pyplot as plt\n",
        "%matplotlib inline\n",
        "\n",
        "# paras\n",
        "h1 = 4; h2 = 2; x12 = 0.5; x21=0.3 ;ta=20 ;r=6 ;T=600 ;p=0.1\n",
        "# deviate slightly from the fixed point value \n",
        "x1 = [1 - 0.00001]\n",
        "x2 = [1 - x1[0]]\n",
        "dt = 0.001\n",
        "\n",
        "for t in range(30000):\n",
        "    # fitnesses\n",
        "    f1 = ((((h1*(x1[t]-x12))/((h1*(x1[t]-x12))+(h2*(x2[t]-x21))))*(r)*(math.exp(-(ta/T))))-(p*h1*(x1[t]-x12))) \n",
        "    f2 = ((((h2*(x2[t]-x21))/((h1*(x1[t]-x12))+(h2*(x2[t]-x21))))*(r)*(math.exp(-(ta/T))))-(p*h2*(x2[t]-x21)))\n",
        "    ff = x1[t] * f1 + x2[t] * f2\n",
        "    # differential equations for shares\n",
        "    x1.append(x1[t] + ((x1[t]*(1-x1[t])*(f1-f2)) * dt))\n",
        "    x2.append(x2[t] + ((x2[t]*(1-x2[t])*(f2-f1)) * dt))\n",
        "\n",
        "plt.plot(x1, 'r', label = 'share of pool1')\n",
        "plt.plot(x2, 'b', label = 'share of pool2')\n",
        "plt.legend(loc = 'best')\n",
        "plt.ylim(-0.1, 1.1)\n",
        "plt.grid()"
      ],
      "execution_count": 11,
      "outputs": [
        {
          "output_type": "display_data",
          "data": {
            "image/png": "[encoded data removed]",
            "text/plain": [
              "<Figure size 432x288 with 1 Axes>"
            ]
          },
          "metadata": {
            "needs_background": "light"
          }
        }
      ]
    },
    {
      "cell_type": "code",
      "metadata": {
        "colab": {
          "base_uri": "https://localhost:8080/",
          "height": 265
        },
        "id": "0v10NaI_qhII",
        "outputId": "20930f37-f197-44b9-b267-985499280ddb"
      },
      "source": [
        "# simulate with steady state\n",
        "import matplotlib.pyplot as plt\n",
        "%matplotlib inline\n",
        "\n",
        "# paras\n",
        "h1 = 4; h2 = 2; x12 = 0.5; x21=0.3 ;ta=20 ;r=6;T=600 ;p=0.1\n",
        "# deviate slightly from the fixed point value \n",
        "x1 = [0.357 + 0.00001]\n",
        "x2 = [1 - x1[0]]\n",
        "dt = 0.01\n",
        "\n",
        "for t in range(300000):\n",
        "    # fitnesses\n",
        "    f1 = ((((h1*(x1[t]-x12))/((h1*(x1[t]-x12))+(h2*(x2[t]-x21))))*(r)*(math.exp(-(ta/T))))-(p*h1*(x1[t]-x12))) \n",
        "    f2 = ((((h2*(x2[t]-x21))/((h1*(x1[t]-x12))+(h2*(x2[t]-x21))))*(r)*(math.exp(-(ta/T))))-(p*h2*(x2[t]-x21)))\n",
        "    ff = x1[t] * f1 + x2[t] * f2\n",
        "    # differential equations for shares\n",
        "    x1.append(x1[t] + ((x1[t]*(1-x1[t])*(f1-f2)) * dt))\n",
        "    x2.append(x2[t] + ((x2[t]*(1-x2[t])*(f2-f1)) * dt))\n",
        "\n",
        "plt.plot(x1, 'r', label = 'share of pool1')\n",
        "plt.plot(x2, 'b', label = 'share of pool2')\n",
        "plt.legend(loc = 'best')\n",
        "plt.ylim(-0.1, 1.1)\n",
        "plt.grid()"
      ],
      "execution_count": 15,
      "outputs": [
        {
          "output_type": "display_data",
          "data": {
            "image/png": "[encoded data removed]",
            "text/plain": [
              "<Figure size 432x288 with 1 Axes>"
            ]
          },
          "metadata": {
            "needs_background": "light"
          }
        }
      ]
    }
  ]
}